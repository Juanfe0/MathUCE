{
  "nbformat": 4,
  "nbformat_minor": 0,
  "metadata": {
    "colab": {
      "provenance": [],
      "authorship_tag": "ABX9TyOhuCxcYcQEL71lP5eEeTbX",
      "include_colab_link": true
    },
    "kernelspec": {
      "name": "python3",
      "display_name": "Python 3"
    },
    "language_info": {
      "name": "python"
    }
  },
  "cells": [
    {
      "cell_type": "markdown",
      "metadata": {
        "id": "view-in-github",
        "colab_type": "text"
      },
      "source": [
        "<a href=\"https://colab.research.google.com/github/Juanfe0/MathUCE/blob/main/RESUMEN_DE_LA_CLASE_4_DE_MATEMATICA__JUANFE_YAZAN.ipynb\" target=\"_parent\"><img src=\"https://colab.research.google.com/assets/colab-badge.svg\" alt=\"Open In Colab\"/></a>"
      ]
    },
    {
      "cell_type": "markdown",
      "source": [
        "**RESUMEN CLASE 4 DE MATEMATICA**"
      ],
      "metadata": {
        "id": "7f0dkKfQVx8D"
      }
    },
    {
      "cell_type": "markdown",
      "source": [
        "# ***Principios de Demostración Matemática: Funciones y Conceptos Relacionados*** 📊\n",
        "\n",
        "En matemáticas, los conceptos de funciones, conjuntos y cardinalidad juegan roles fundamentales. En esta clase, exploraremos estos temas detalladamente, utilizando ejemplos y visualizaciones para facilitar la comprensión. 🧮\n",
        "\n",
        "## **Funciones**🔄\n",
        "\n",
        "Una función matemática es una regla que asigna a cada elemento de un conjunto de partida (dominio) exactamente un elemento de un conjunto de llegada (codominio). Se denota típicamente como $( f: X \\to Y )$, donde $( X )$ es el dominio y $( Y $) es el codominio. Por ejemplo:\n",
        "\n",
        "- $( f(x) = x^2 )$ define una función cuadrática.\n",
        "- $( g(x) = \\sin(x) )$ representa la función seno.\n",
        "\n",
        "## **Conjuntos y Cardinalidad** 📐\n",
        "\n",
        "Los conjuntos son colecciones de objetos, y la cardinalidad de un conjunto es el número de elementos que contiene. Algunos conjuntos importantes incluyen:\n",
        "\n",
        "- **Conjunto Vacío:** $( \\emptyset )$, que no contiene elementos.\n",
        "- **Conjunto Finito:** Tiene un número específico de elementos.\n",
        "- **Conjunto Infinito:** Tiene una cantidad ilimitada de elementos.\n",
        "\n",
        "## **Visualizaciones y Ejemplos**🖼️\n",
        "\n",
        "Utilizaremos visualizaciones y ejemplos para ilustrar estos conceptos:\n",
        "\n",
        "- **Diagramas de Venn:** Para representar intersecciones y uniones de conjuntos.\n",
        "- **Gráficos de Funciones:** Para mostrar cómo se comportan las funciones en diferentes dominios.\n",
        "- **Ejemplos Numéricos:** Calcularemos la cardinalidad de conjuntos finitos y compararemos diferentes tipos de funciones.\n",
        "\n",
        "Al comprender estos fundamentos, estarás mejor preparado para abordar problemas más avanzados en matemáticas y ciencias computacionales que requieren razonamiento y demostración formal. 🌟\n"
      ],
      "metadata": {
        "id": "rVe74938V4bj"
      }
    },
    {
      "cell_type": "markdown",
      "source": [
        "## 📈 **Funciones**\n",
        "\n",
        "Una **función** es una relación que asocia cada elemento de un conjunto $(A)$ $(dominio)$) con un único elemento de un conjunto $(B)$ $(codominio)$. Esto se denota comúnmente como $( f: A \\to B )$. Por ejemplo, si tenemos la función $( f(x) = 8x )$, estamos diciendo que a cada valor de $( x )$ en el dominio le corresponde un valor en el codominio multiplicado por 8.\n"
      ],
      "metadata": {
        "id": "yAAxfKcfWxu-"
      }
    },
    {
      "cell_type": "markdown",
      "source": [
        "# 🎨 ***Definición Formal de Función***\n",
        "\n",
        "En matemáticas, una función $( f )$ se define formalmente como:\n",
        "\n",
        "$[\n",
        "\\forall x \\in A, \\exists! y \\in B \\text{ tal que } y = f(x)\n",
        "]$\n",
        "\n",
        "Esto significa que para cada elemento $( x )$ en el conjunto $( A )$ $(dominio)$, existe exactamente un elemento $( y )$ en el conjunto $( B )$ $(codominio)$ tal que $( y )$ es el valor al que $( x )$ es mapeado por la función $( f )$.\n",
        "\n",
        "### **Componentes de una Función**:\n",
        "\n",
        "1. 📝 **Nombre de la función**: $( f )$\n",
        "   - Es el símbolo que representa la función.\n",
        "\n",
        "2. 🔍 **Regla de asociación**:\n",
        "   - Es la fórmula que define cómo se asocian los elementos de $( A )$ con los elementos de $( B )$. Por ejemplo, $( f(x) = 3x )$ indica que cada elemento $( x )$ en $( A )$ se mapea al elemento $( 3x )$ en $( B )$.\n",
        "\n",
        "3. 🌐 **Dominio**: $( A )$\n",
        "   - Es el conjunto de partida de la función, donde se toman los elementos $( x )$.\n",
        "\n",
        "4. 🎯 **Codominio**: $( B )$\n",
        "   - Es el conjunto de llegada de la función, donde se encuentran los elementos \\( y \\) asociados a $( x )$ a través de $( f )$.\n",
        "\n",
        "### **Ejemplo**\n",
        "\n",
        "Supongamos que:\n",
        "- $( A )$ es el conjunto de los números reales $( \\mathbb{R} )$.\n",
        "- $( B )$ también es el conjunto de los números reales $( \\mathbb{R} )$.\n",
        "- La regla de asociación es $( f(x) = 3x )$.\n",
        "\n",
        "Entonces, la función completa sería:\n",
        "$[ f: \\mathbb{R} \\to \\mathbb{R}, \\quad f(x) = 3x ]$\n",
        "\n",
        "En este ejemplo, cada número real $( x )$ en $( \\mathbb{R} )$ se multiplica por $( 3 )$, dando como resultado un nuevo número real $( f(x) )$ en $( \\mathbb{R} )$.\n",
        "\n",
        "Esta estructura proporciona una definición clara de función junto con un ejemplo específico para ilustrar su aplicación.\n",
        "\n"
      ],
      "metadata": {
        "id": "_9W8R5agXclL"
      }
    },
    {
      "cell_type": "markdown",
      "source": [
        "### 🌟 Ejemplos y Notación\n",
        "\n",
        "Consideremos una función más compleja, por ejemplo, $( f(x) = 3x^2 )$. En esta función, el valor de $( x )$ se eleva al cuadrado y luego se multiplica por 3.\n",
        "\n",
        "#### Explicación:\n",
        "\n",
        "- **Nombre de la función**: $( f )$\n",
        "  - Representa la función en cuestión.\n",
        "\n",
        "- **Regla de asociación**:\n",
        "  - La fórmula $( f(x) = 3x^2 )$ indica que para cada valor de $( x )$, se calcula su cuadrado y se multiplica por 3 para obtener $( f(x) )$.\n",
        "\n",
        "- **Dominio**: $( \\mathbb{R} )$ (todos los números reales).\n",
        "  - $( x )$ puede ser cualquier número real.\n",
        "\n",
        "- **Codominio**: $( \\mathbb{R} )$ (todos los números reales).\n",
        "  - $( f(x) )$ también puede tomar cualquier valor real, dependiendo del valor de \\( x \\).\n",
        "\n",
        "\n",
        "\n",
        "\n",
        "\n"
      ],
      "metadata": {
        "id": "IN9xSttQZwAv"
      }
    },
    {
      "cell_type": "markdown",
      "source": [
        "- ***Representado en CODIGO:***"
      ],
      "metadata": {
        "id": "ynIlvatLa2Gr"
      }
    },
    {
      "cell_type": "code",
      "source": [
        "# Definición de la relación entre A y B\n",
        "relacion = {\n",
        "    1: 3,\n",
        "    2: 12,\n",
        "    3: 27\n",
        "}\n",
        "\n",
        "# Imprimir la relación\n",
        "print(\"A (números)\\tB (números)\")\n",
        "for key, value in relacion.items():\n",
        "    print(f\"{key}\\t\\t{value}\")\n"
      ],
      "metadata": {
        "id": "CaQlZiygaFMb"
      },
      "execution_count": null,
      "outputs": []
    },
    {
      "cell_type": "markdown",
      "source": [
        "# 🔄 **Regla de Asociación**\n",
        "\n",
        "En matemáticas, la regla de asociación explica cómo se relacionan los elementos de dos conjuntos mediante una función específica. Es fundamental para entender cómo cambia un conjunto de elementos cuando se transforma según ciertas reglas definidas.\n",
        "\n",
        "Por ejemplo, considera la función $( f(x) = 3x )$. Esta regla de asociación implica que por cada valor de $( x )$, el resultado $( y )$ se obtiene multiplicando $( x )$ por 3. Así, si $( x )$ es 2, entonces $( f(2) )$ sería $( 6 )$, ya que $( 3 \\times 2 = 6 )$.\n",
        "\n",
        "Las reglas de asociación son útiles en muchos campos, incluyendo el análisis de datos y la inteligencia artificial, donde se utilizan para descubrir patrones y relaciones entre conjuntos de datos.\n"
      ],
      "metadata": {
        "id": "M7g0kWOCbNAs"
      }
    },
    {
      "cell_type": "markdown",
      "source": [
        "# 🎯 **Concepto de Imagen y Preimagen**\n",
        "\n",
        "En matemáticas, la imagen y la preimagen son conceptos fundamentales que describen cómo una función relaciona elementos entre su dominio y codominio:\n",
        "\n",
        "- 🖼️ **Imagen**: Es el valor $( y )$ en el codominio que se obtiene al aplicar la función a un valor $( x )$ del dominio.\n",
        "  - *Ejemplo*: Si $( f(x) = 3x )$ y $( x = 2 )$, entonces la imagen de 2 bajo $( f )$ es $( f(2) = 6 )$.\n",
        "\n",
        "- 🔄 **Preimagen**: Es el valor $( x )$ en el dominio que se mapea a un valor $( y )$ en el codominio.\n",
        "  - *Ejemplo*: Si $( f(x) = 3x )$ y sabemos que $( f(x) = 6 )$, la preimagen de 6 es $( x = 2 )$.\n",
        "\n",
        "Estos conceptos son esenciales para entender cómo las funciones asignan valores entre conjuntos y son ampliamente utilizados en matemáticas, ciencias de la computación y otras disciplinas para modelar y analizar relaciones y transformaciones.\n"
      ],
      "metadata": {
        "id": "Mp3V75hbbeKq"
      }
    },
    {
      "cell_type": "markdown",
      "source": [
        "-  ***Definicion en CODIGO***"
      ],
      "metadata": {
        "id": "qYeUUWx7cESK"
      }
    },
    {
      "cell_type": "code",
      "source": [
        "# Definición de una función simple\n",
        "def f(x):\n",
        "    return 2 * x + 1\n",
        "\n",
        "# Conjunto A (dominio)\n",
        "A = [1, 2, 3, 4, 5]\n",
        "\n",
        "# Conjunto B (codominio)\n",
        "B = []\n",
        "\n",
        "# Calculando la imagen de la función f sobre A\n",
        "imagen_f = [f(x) for x in A]\n",
        "\n",
        "# Definición de la preimagen de un valor en B\n",
        "def preimagen(f, valor):\n",
        "    return [x for x in A if f(x) == valor]\n",
        "\n",
        "# Ejemplos de uso\n",
        "valor_b = 7  # Ejemplo de un valor en B\n",
        "preimagen_valor_b = pre\n"
      ],
      "metadata": {
        "id": "dkmNXfhOcS4y"
      },
      "execution_count": null,
      "outputs": []
    },
    {
      "cell_type": "markdown",
      "source": [
        "# 🎯  ***Definion de la Función***\n",
        "\n",
        "Una **función** $( f )$ se define como una relación que asigna a cada elemento $( x )$ de un conjunto $( A )$ un único elemento en un conjunto $( B )$. Esto se denota como:\n",
        "\n",
        "$[ f: A \\to B ]$\n",
        "\n",
        "Para cada $( x \\in A )$, tenemos que $( f(x) \\in B )$.\n",
        "\n",
        "\n",
        "- ## 🖼️***Imagen de un Conjunto*** $( E \\subseteq A )$\n",
        "\n",
        "\n",
        "Sea $( E $) un subconjunto de $( A )$. La **imagen** de $( E )$ bajo la función $( f )$ se define como:\n",
        "\n",
        "$[ f(E) := \\{ f(x) \\in B : x \\in E \\} ]$\n",
        "\n",
        "Esta es la colección de todos los valores $( f(x) )$ donde $( x )$ pertenece a $( E )$. Este conjunto se llama la **imagen de $( E )$**.\n",
        "\n",
        "- ## 🖼️***Preimagen de un Conjunto*** $( F \\subseteq B )$\n",
        "\n",
        "Sea $( F )$ un subconjunto de $( B )$. La **preimagen** de $( F )$ bajo la función $( f )$ se define como:\n",
        "\n",
        "$[ f^{-1}(F) := \\{ x \\in A : f(x) \\in F \\} ]$\n",
        "\n",
        "Esta es la colección de todos los $( x )$ en $( A )$ tal que $( f(x) )$ pertenece a $( F )$. Este conjunto se llama la **preimagen de $( F )$**.\n",
        "\n",
        "- ## 🌟***Ejemplo Específico***\n",
        "\n",
        "Si $( y \\in B )$, entonces la preimagen de $( \\{ y \\} )$ bajo la función $( f )$ se denota como:\n",
        "\n",
        "$[ f^{-1}(\\{ y \\}) ]$\n",
        "\n",
        "- ### 🌟***Notación Matemática de la imagen del ejemplo***\n",
        "Definimos la imagen de $( E )$ bajo $( f )$ como:\n",
        "\n",
        "$[ f(E) = \\{ f(x) \\in B \\mid x \\in E \\} ]$\n",
        "\n",
        "Esto significa que $( f(E) )$ es el conjunto de todas las imágenes de los elementos de $( E )$ bajo la función $( f )$. Entonces, podemos decir que $( f(E) )$ es un subconjunto de $( B )$:\n",
        "\n",
        "- $[ f(E) \\subseteq B ]$"
      ],
      "metadata": {
        "id": "fNlY1PvecQER"
      }
    },
    {
      "cell_type": "markdown",
      "source": [
        "# ✅ **Función**\n",
        "\n",
        "Una función $( f: \\mathbb{R} \\to \\mathbb{R} )$ se define como:\n",
        "\n",
        "**$[ x \\mapsto f(x) = x^2 + 1 ]$**\n",
        "\n",
        "Esto significa que para cada $( x )$ en el conjunto de números reales $( \\mathbb{R} )$, la función $( f )$ asigna el valor $( x^2 + 1 )$.\n",
        "\n",
        "- **Imagen de $( \\mathbb{R} )$ bajo $( f )$ $( ( f(\\mathbb{R}) )$ ):**\n",
        "\n",
        "$[ f(\\mathbb{R}) = \\{ f(x) \\in \\mathbb{R} : x \\in \\mathbb{R} \\} = \\{ x^2 + 1 : x \\in \\mathbb{R} \\} ]$\n",
        "\n",
        "Esto representa el conjunto de todos los valores $( y )$ en $( \\mathbb{R} )$ que se pueden obtener al evaluar $( f(x) = x^2 + 1 )$ para todos los $( x )$ en $( \\mathbb{R} )$.\n",
        "\n",
        "$[ f(\\mathbb{R}) = \\{ y \\in \\mathbb{R} : y \\geq 1 \\} = [1, +\\infty) ]$\n",
        "\n",
        "Esto indica que la imagen de $( \\mathbb{R} )$ bajo $( f )$ es el intervalo $( [1, +\\infty) )$, que incluye todos los números reales mayores o iguales a 1.\n",
        "\n",
        "- **Preimagen de un intervalo $( (-10, 0) )$ bajo $( f )$ $(  f^{-1}( -10, 0 ) )$:**\n",
        "\n",
        "$[ f^{-1}(( -10, 0 )) = \\{ x \\in \\mathbb{R} : f(x) \\in (-10, 0) \\} ]$\n",
        "\n",
        "En este caso, la preimagen de $( (-10, 0) )$ bajo $( f )$ es el conjunto de todos los $( x )$ en $( \\mathbb{R} )$ cuyos valores bajo $( f )$ caen dentro del intervalo $( (-10, 0) )$.\n",
        "\n",
        "$[ f^{-1}(( -10, 0 )) = \\emptyset ]$\n",
        "\n",
        "Esto indica que no hay valores $( x )$ en $( \\mathbb{R} )$ tales que $( f(x) )$ esté en el intervalo $( (-10, 0) )$. Por lo tanto, la preimagen es el conjunto vacío.\n"
      ],
      "metadata": {
        "id": "bchm4mbRcvq6"
      }
    },
    {
      "cell_type": "markdown",
      "source": [
        "# 🧮 **Gráfica de la Función en Python**\n",
        "\n",
        "Vamos a graficar la función $( f(x) = x^2 + 1 )$ en el intervalo $( \\mathbb{R} )$.\n"
      ],
      "metadata": {
        "id": "K1QRs_MyeEok"
      }
    },
    {
      "cell_type": "code",
      "source": [
        "import numpy as np\n",
        "import matplotlib.pyplot as plt\n",
        "\n",
        "# Definición de la función f(x) = x^2 + 1\n",
        "def f(x):\n",
        "    return x**2 + 1\n",
        "\n",
        "# Generar datos para la gráfica\n",
        "x = np.linspace(-5, 5, 400)  # Genera 400 puntos entre -5 y 5\n",
        "y = f(x)\n",
        "\n",
        "# Crear la gráfica\n",
        "plt.figure(figsize=(8, 6))  # Tamaño de la figura\n",
        "\n",
        "plt.plot(x, y, label='f(x) = x^2 + 1', color='blue')  # Graficar la función\n",
        "\n",
        "plt.title('Gráfica de la función f(x) = x^2 + 1')\n",
        "plt.xlabel('x')\n",
        "plt.ylabel('f(x)')\n",
        "plt.grid(True)\n",
        "plt.legend()\n",
        "\n",
        "plt.show()\n"
      ],
      "metadata": {
        "id": "ENLBNPKIeMMh"
      },
      "execution_count": null,
      "outputs": []
    },
    {
      "cell_type": "markdown",
      "source": [
        "# 🧮 **Gráfica de la Función**"
      ],
      "metadata": {
        "id": "3_rMzzUeeowC"
      }
    },
    {
      "cell_type": "markdown",
      "source": [
        "![image.png](data:image/png;base64,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)"
      ],
      "metadata": {
        "id": "Mico0uZpeYlh"
      }
    },
    {
      "cell_type": "markdown",
      "source": [
        "## 📚 **Explicación detallada de la función cuadrática**\n",
        "\n",
        "### 1. 🌟**Función Cuadrática**:\n",
        "   - La función cuadrática $( f(x) = x^2 + 1 )$ define una transformación de números reales $( x )$ al sumarle 1 al cuadrado de $( x )$.\n",
        "\n",
        "### 2. 🌟**Imagen de $( \\mathbb{R} )$ bajo $( f )$**:\n",
        "   - La imagen de $( \\mathbb{R} $) bajo $( f )$, denotada como $( f(\\mathbb{R}) )$, consiste en todos los números reales $( y )$ tales que $( y = x^2 + 1 )$ para algún $( x \\in \\mathbb{R} )$. Esto implica que $( f(\\mathbb{R}) = [1, +\\infty) )$, indicando que todos los valores de $( f(x) )$ están en el intervalo $( [1, +\\infty) )$.\n",
        "\n",
        "### 3. 🌟**Preimagen de un intervalo específico**:\n",
        "   - La preimagen del intervalo $( (-10, 0) )$ bajo $( f )$, denotada como $( f^{-1}((-10, 0)) $), es el conjunto vacío $( \\emptyset )$. Esto se debe a que no existen valores de $( x \\in \\mathbb{R} )$ tales que $( f(x) )$ esté en el intervalo $( (-10, 0) )$, ya que $( f(x) = x^2 + 1 \\geq 1 )$ para todo $( x \\in \\mathbb{R} )$.\n"
      ],
      "metadata": {
        "id": "bdrE7Z44emfJ"
      }
    },
    {
      "cell_type": "markdown",
      "source": [
        "## 🟦 **Conceptos Fundamentales sobre Conjuntos** 🧩\n",
        "\n",
        "Un conjunto es una colección de elementos que pueden ser números, letras, objetos, entre otros. Se representan generalmente entre llaves `{}`.\n",
        "\n",
        "### Ejemplos de Conjuntos:\n",
        "- $( A = \\{ 1, 2, 3 \\} )$\n",
        "- $( B = \\{ a, b, c \\} )$\n",
        "\n",
        "### Operaciones con Conjuntos:\n",
        "Las operaciones básicas con conjuntos incluyen:\n",
        "\n",
        "1. **Unión $( \\cup )$** 🌐: La unión de dos conjuntos $( A )$  y $( B )$, denotada como $( A \\cup B )$, contiene todos los elementos que pertenecen a $( A )$ , a $( B )$, o a ambos.\n",
        "\n",
        "2. **Intersección $(\\cap )$** 🌼: La intersección de dos conjuntos $( A )$ y $( B )$, denotada como $( A \\cap B )$, contiene todos los elementos que pertenecen tanto a $( A )$  como a $( B )$.\n",
        "\n",
        "3. **Diferencia $( \\setminus)$** 📉: La diferencia de dos conjuntos $( A )$  y $( B )$, denotada como $( A \\setminus B )$, contiene todos los elementos que pertenecen a $( A )$  pero no a $( B )$.\n"
      ],
      "metadata": {
        "id": "qw37Qk-9gFFR"
      }
    },
    {
      "cell_type": "markdown",
      "source": [
        "- ***EJEMPLO DE OPERACIONES***"
      ],
      "metadata": {
        "id": "HuvRqbY_hMwh"
      }
    },
    {
      "cell_type": "code",
      "source": [
        "# Ejemplo de operaciones con conjuntos en Python\n",
        "\n",
        "# Definir conjuntos A y B\n",
        "A = {1, 2, 3}\n",
        "B = {2, 3, 4}\n",
        "\n",
        "# Operaciones con conjuntos\n",
        "union = A.union(B)        # Unión de A y B\n",
        "interseccion = A.intersection(B)  # Intersección de A y B\n",
        "diferencia = A.difference(B)  # Diferencia A - B\n",
        "\n",
        "# Mostrar resultados\n",
        "print(f\"A = {A}\")\n",
        "print(f\"B = {B}\")\n",
        "print(f\"Unión (A ∪ B) = {union}\")\n",
        "print(f\"Intersección (A ∩ B) = {interseccion}\")\n",
        "print(f\"Diferencia (A \\ B) = {diferencia}\")\n"
      ],
      "metadata": {
        "id": "L3AX5FaahMCw"
      },
      "execution_count": null,
      "outputs": []
    },
    {
      "cell_type": "markdown",
      "source": [
        "## 🔢 ***Cardinalidad de Conjuntos***\n",
        "\n",
        "La cardinalidad de un conjunto es el número de elementos que contiene. Por ejemplo, si tenemos $( A = \\{ 1, 2, 3 \\} )$, la cardinalidad de $( A )$ es 3.\n",
        "\n",
        "### 🔍**Cardinalidad en Conjuntos Finitos**:\n",
        "En conjuntos finitos, la cardinalidad simplemente se obtiene contando sus elementos. Para el conjunto $( A )$ dado, su cardinalidad es $( |A| = 3 )$.\n",
        "\n",
        "### 🔍**Cardinalidad en Conjuntos Infinitos**:\n",
        "En contraste, los conjuntos infinitos presentan una cardinalidad que no se puede medir de la misma manera. Por ejemplo:\n",
        "- El conjunto de los números naturales $( \\mathbb{N} )$ tiene una cardinalidad infinita. No importa cuántos números naturales enumeremos, siempre habrá más.\n"
      ],
      "metadata": {
        "id": "6sGOgShjhQ8K"
      }
    },
    {
      "cell_type": "markdown",
      "source": [
        "#  ***Conclusión*** 🌟\n",
        "\n",
        "En resumen, hemos explorado los conceptos fundamentales de funciones, conjuntos, imágenes y preimágenes en matemáticas, destacando su importancia y aplicabilidad. Comprender cómo se definen y relacionan estos conceptos nos permite abordar problemas matemáticos con rigor y precisión. Esta base es esencial para avanzar en el estudio de las matemáticas y aplicarlas efectivamente en diversas disciplinas.\n",
        "\n",
        "## 🎓**Importancia de los Conceptos Explorados**:\n",
        "- 📊 **Funciones**: Son herramientas clave para describir relaciones entre conjuntos y modelar fenómenos en ciencias y tecnología.\n",
        "- 📚 **Conjuntos**: Permiten la organización y clasificación de elementos, fundamentales para estructurar datos y teorías.\n",
        "- 🖼️ **Imágenes y Preimágenes**: Ayudan a entender cómo los elementos de un conjunto se relacionan bajo una función, proporcionando insights valiosos en análisis y modelado.\n",
        "\n",
        "## 🎓**Aplicación Práctica**:\n",
        "A través de ejemplos y notaciones formales, hemos visto cómo las funciones mapean elementos entre conjuntos y cómo se analizan sus imágenes y preimágenes, facilitando una comprensión profunda de las relaciones matemáticas. Esta comprensión no solo es crucial en matemáticas puras, sino también en áreas aplicadas como la ciencia de datos, la economía y la ingeniería.\n",
        "\n",
        "Con estos fundamentos sólidos, estamos mejor preparados para resolver problemas complejos y aplicar el poder de las matemáticas de manera efectiva en cualquier campo que requiera análisis estructurado y lógico.\n"
      ],
      "metadata": {
        "id": "l1Ojtrzfhu4k"
      }
    }
  ]
}